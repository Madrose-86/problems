{
 "cells": [
  {
   "cell_type": "code",
   "execution_count": 2,
   "id": "4dcc7672",
   "metadata": {},
   "outputs": [
    {
     "name": "stdout",
     "output_type": "stream",
     "text": [
      "Mohammad Afroze\n"
     ]
    }
   ],
   "source": [
    "first = 'Mohammad'\n",
    "last = 'Afroze'\n",
    "print(first+' '+last)\n"
   ]
  },
  {
   "cell_type": "code",
   "execution_count": 3,
   "id": "a564fe1f",
   "metadata": {},
   "outputs": [
    {
     "name": "stdout",
     "output_type": "stream",
     "text": [
      "5\n"
     ]
    }
   ],
   "source": [
    "_nation = 5\n",
    "print(_nation)"
   ]
  },
  {
   "cell_type": "code",
   "execution_count": 4,
   "id": "00c87f6c",
   "metadata": {},
   "outputs": [
    {
     "ename": "SyntaxError",
     "evalue": "invalid syntax (4067051234.py, line 1)",
     "output_type": "error",
     "traceback": [
      "\u001b[1;36m  File \u001b[1;32m\"C:\\Users\\afroz\\AppData\\Local\\Temp\\ipykernel_15248\\4067051234.py\"\u001b[1;36m, line \u001b[1;32m1\u001b[0m\n\u001b[1;33m    1record = 10\u001b[0m\n\u001b[1;37m     ^\u001b[0m\n\u001b[1;31mSyntaxError\u001b[0m\u001b[1;31m:\u001b[0m invalid syntax\n"
     ]
    }
   ],
   "source": [
    "1record = 10\n",
    "print(1record)"
   ]
  },
  {
   "cell_type": "code",
   "execution_count": 5,
   "id": "e67cb205",
   "metadata": {},
   "outputs": [
    {
     "ename": "SyntaxError",
     "evalue": "cannot assign to operator (2975750527.py, line 1)",
     "output_type": "error",
     "traceback": [
      "\u001b[1;36m  File \u001b[1;32m\"C:\\Users\\afroz\\AppData\\Local\\Temp\\ipykernel_15248\\2975750527.py\"\u001b[1;36m, line \u001b[1;32m1\u001b[0m\n\u001b[1;33m    record-one = 10\u001b[0m\n\u001b[1;37m    ^\u001b[0m\n\u001b[1;31mSyntaxError\u001b[0m\u001b[1;31m:\u001b[0m cannot assign to operator\n"
     ]
    }
   ],
   "source": [
    "record-one = 10\n",
    "print(record-one)"
   ]
  },
  {
   "cell_type": "code",
   "execution_count": 6,
   "id": "d98bab5b",
   "metadata": {},
   "outputs": [
    {
     "ename": "SyntaxError",
     "evalue": "cannot assign to operator (4206674195.py, line 1)",
     "output_type": "error",
     "traceback": [
      "\u001b[1;36m  File \u001b[1;32m\"C:\\Users\\afroz\\AppData\\Local\\Temp\\ipykernel_15248\\4206674195.py\"\u001b[1;36m, line \u001b[1;32m1\u001b[0m\n\u001b[1;33m    record^one = 10\u001b[0m\n\u001b[1;37m    ^\u001b[0m\n\u001b[1;31mSyntaxError\u001b[0m\u001b[1;31m:\u001b[0m cannot assign to operator\n"
     ]
    }
   ],
   "source": [
    "record^one = 10\n",
    "print(record^one)"
   ]
  },
  {
   "cell_type": "code",
   "execution_count": 9,
   "id": "3e3975e1",
   "metadata": {},
   "outputs": [
    {
     "name": "stdout",
     "output_type": "stream",
     "text": [
      "the area of football field is: 4489.6\n"
     ]
    }
   ],
   "source": [
    "length_m = 92\n",
    "width_m = 48.8\n",
    "area = length_m * width_m\n",
    "print('the area of football field is:',round(area,1))"
   ]
  },
  {
   "cell_type": "code",
   "execution_count": 10,
   "id": "6c18259a",
   "metadata": {},
   "outputs": [
    {
     "name": "stdout",
     "output_type": "stream",
     "text": [
      "6.59\n"
     ]
    }
   ],
   "source": [
    "no_packets = 9\n",
    "packet_cost = 1.49\n",
    "give_sk = 20\n",
    "return_back = give_sk-(no_packets*packet_cost)\n",
    "print(return_back)"
   ]
  },
  {
   "cell_type": "code",
   "execution_count": 12,
   "id": "923f051c",
   "metadata": {},
   "outputs": [
    {
     "name": "stdout",
     "output_type": "stream",
     "text": [
      "area of bathroom: 30.25\n",
      "the cost to replace all tiles: 15125.0\n"
     ]
    }
   ],
   "source": [
    "side_ft = 5.5\n",
    "tile_cost = 500\n",
    "area_bathroom = side_ft**2\n",
    "print('area of bathroom:',area_bathroom)\n",
    "all_tile_cost = tile_cost * area_bathroom\n",
    "print(\"the cost to replace all tiles:\", all_tile_cost)"
   ]
  },
  {
   "cell_type": "code",
   "execution_count": 15,
   "id": "7b3a4d21",
   "metadata": {},
   "outputs": [
    {
     "name": "stdout",
     "output_type": "stream",
     "text": [
      "10001\n"
     ]
    }
   ],
   "source": [
    "no = 17\n",
    "bin_no = bin(no)[2:]\n",
    "print(bin_no)"
   ]
  },
  {
   "cell_type": "code",
   "execution_count": 20,
   "id": "c0890815",
   "metadata": {},
   "outputs": [
    {
     "name": "stdout",
     "output_type": "stream",
     "text": [
      "revolves\n",
      "sun\n"
     ]
    }
   ],
   "source": [
    "string ='Earth revolves around the sun'\n",
    "print(string[6:14])\n",
    "print(string[-3:])"
   ]
  },
  {
   "cell_type": "code",
   "execution_count": 31,
   "id": "6193eac5",
   "metadata": {},
   "outputs": [
    {
     "name": "stdout",
     "output_type": "stream",
     "text": [
      "road no 12\n",
      "warangal\n",
      "india\n"
     ]
    }
   ],
   "source": [
    "street = \"road no 12\"\n",
    "city = 'warangal'\n",
    "country = \"india\"\n",
    "address = street +'\\n' +city+'\\n'+country\n",
    "print(address)"
   ]
  },
  {
   "cell_type": "code",
   "execution_count": 30,
   "id": "07f38c46",
   "metadata": {},
   "outputs": [
    {
     "name": "stdout",
     "output_type": "stream",
     "text": [
      "road no 12\n",
      "warangal\n",
      "india\n"
     ]
    }
   ],
   "source": [
    "street = \"road no 12\"\n",
    "city = 'warangal'\n",
    "country = \"india\"\n",
    "address2 = f'{street}\\n{city}\\n{country}'\n",
    "print(address2)"
   ]
  },
  {
   "cell_type": "code",
   "execution_count": 21,
   "id": "5cdafed6",
   "metadata": {},
   "outputs": [
    {
     "name": "stdout",
     "output_type": "stream",
     "text": [
      "I eat 10 veggies and 15 fruits daily\n"
     ]
    }
   ],
   "source": [
    "x = 10\n",
    "y = 15\n",
    "print(f'I eat {x} veggies and {y} fruits daily')"
   ]
  },
  {
   "cell_type": "code",
   "execution_count": 49,
   "id": "9399b998",
   "metadata": {},
   "outputs": [
    {
     "name": "stdout",
     "output_type": "stream",
     "text": [
      "feb extra spend: 150\n"
     ]
    }
   ],
   "source": [
    "l1= ['january','february','march','april','May']\n",
    "l2 =[2200,2350,2600,2130,2190]\n",
    "print('feb extra spend:',l2[1]-l2[0])"
   ]
  },
  {
   "cell_type": "code",
   "execution_count": 50,
   "id": "2591af85",
   "metadata": {},
   "outputs": [
    {
     "name": "stdout",
     "output_type": "stream",
     "text": [
      "7150\n"
     ]
    }
   ],
   "source": [
    "total_expense_qtr1=sum(l2[0:3])\n",
    "print(total_expense_qtr1)"
   ]
  },
  {
   "cell_type": "code",
   "execution_count": 51,
   "id": "62b0a476",
   "metadata": {},
   "outputs": [
    {
     "name": "stdout",
     "output_type": "stream",
     "text": [
      "False\n"
     ]
    }
   ],
   "source": [
    "spend_2000 = 2000 in l2\n",
    "print(spend_2000)"
   ]
  },
  {
   "cell_type": "code",
   "execution_count": 52,
   "id": "c01c9c00",
   "metadata": {},
   "outputs": [
    {
     "data": {
      "text/plain": [
       "[2200, 2350, 2600, 2130, 2190, 1980]"
      ]
     },
     "execution_count": 52,
     "metadata": {},
     "output_type": "execute_result"
    }
   ],
   "source": [
    "l2.append(1980)\n",
    "l2"
   ]
  },
  {
   "cell_type": "code",
   "execution_count": 53,
   "id": "92bdfeee",
   "metadata": {},
   "outputs": [
    {
     "data": {
      "text/plain": [
       "[2200, 2350, 2600, 1930, 2190, 1980]"
      ]
     },
     "execution_count": 53,
     "metadata": {},
     "output_type": "execute_result"
    }
   ],
   "source": [
    "l2[3]=l2[3]-200\n",
    "l2"
   ]
  },
  {
   "cell_type": "code",
   "execution_count": 54,
   "id": "d94ab663",
   "metadata": {},
   "outputs": [],
   "source": [
    "heros=['spider man','thor','hulk','iron man','captain america']"
   ]
  },
  {
   "cell_type": "code",
   "execution_count": 55,
   "id": "c56810ba",
   "metadata": {},
   "outputs": [
    {
     "data": {
      "text/plain": [
       "5"
      ]
     },
     "execution_count": 55,
     "metadata": {},
     "output_type": "execute_result"
    }
   ],
   "source": [
    "len(heros)"
   ]
  },
  {
   "cell_type": "code",
   "execution_count": 56,
   "id": "85ec1215",
   "metadata": {},
   "outputs": [],
   "source": [
    "heros.append('black panther')"
   ]
  },
  {
   "cell_type": "code",
   "execution_count": 57,
   "id": "87866ca1",
   "metadata": {},
   "outputs": [
    {
     "data": {
      "text/plain": [
       "['spider man', 'thor', 'hulk', 'iron man', 'captain america', 'black panther']"
      ]
     },
     "execution_count": 57,
     "metadata": {},
     "output_type": "execute_result"
    }
   ],
   "source": [
    "heros"
   ]
  },
  {
   "cell_type": "code",
   "execution_count": 58,
   "id": "75c65403",
   "metadata": {},
   "outputs": [
    {
     "data": {
      "text/plain": [
       "['spider man', 'thor', 'iron man', 'captain america', 'black panther']"
      ]
     },
     "execution_count": 58,
     "metadata": {},
     "output_type": "execute_result"
    }
   ],
   "source": [
    "heros.remove('hulk')\n",
    "heros"
   ]
  },
  {
   "cell_type": "code",
   "execution_count": 59,
   "id": "ae62d2a1",
   "metadata": {},
   "outputs": [],
   "source": [
    "heros.append('hulk')"
   ]
  },
  {
   "cell_type": "code",
   "execution_count": 60,
   "id": "ce5e5939",
   "metadata": {},
   "outputs": [
    {
     "data": {
      "text/plain": [
       "['spider man', 'thor', 'iron man', 'captain america', 'black panther', 'hulk']"
      ]
     },
     "execution_count": 60,
     "metadata": {},
     "output_type": "execute_result"
    }
   ],
   "source": [
    "heros"
   ]
  },
  {
   "cell_type": "code",
   "execution_count": 64,
   "id": "95083a5b",
   "metadata": {},
   "outputs": [],
   "source": [
    "heros = ['doctor strange' if hero in ['thor', 'hulk'] else hero for hero in heros ]"
   ]
  },
  {
   "cell_type": "code",
   "execution_count": 65,
   "id": "e6f1f8cf",
   "metadata": {},
   "outputs": [
    {
     "data": {
      "text/plain": [
       "['spider man',\n",
       " 'doctor strange',\n",
       " 'iron man',\n",
       " 'captain america',\n",
       " 'black panther',\n",
       " 'doctor strange']"
      ]
     },
     "execution_count": 65,
     "metadata": {},
     "output_type": "execute_result"
    }
   ],
   "source": [
    "heros"
   ]
  },
  {
   "cell_type": "code",
   "execution_count": 66,
   "id": "524f86f1",
   "metadata": {},
   "outputs": [],
   "source": [
    "heros.sort()"
   ]
  },
  {
   "cell_type": "code",
   "execution_count": 67,
   "id": "a066b154",
   "metadata": {},
   "outputs": [
    {
     "data": {
      "text/plain": [
       "['black panther',\n",
       " 'captain america',\n",
       " 'doctor strange',\n",
       " 'doctor strange',\n",
       " 'iron man',\n",
       " 'spider man']"
      ]
     },
     "execution_count": 67,
     "metadata": {},
     "output_type": "execute_result"
    }
   ],
   "source": [
    "heros"
   ]
  },
  {
   "cell_type": "code",
   "execution_count": 81,
   "id": "4137ff97",
   "metadata": {},
   "outputs": [
    {
     "name": "stdout",
     "output_type": "stream",
     "text": [
      "enter the city name:hyde\n",
      "hyde is not available in given list\n"
     ]
    }
   ],
   "source": [
    "india = [\"mumbai\", \"banglore\", \"chennai\", \"delhi\"]\n",
    "pakistan = [\"lahore\",\"karachi\",\"islamabad\"]\n",
    "bangladesh = [\"dhaka\", \"khulna\", \"rangpur\"]\n",
    "\n",
    "city = str(input(\"enter the city name:\"))\n",
    "city = city.lower()\n",
    "if city in india:\n",
    "    print(f'{city} is in India')\n",
    "elif city in pakistan:\n",
    "    print(f'{city} is in pakistan')\n",
    "elif city in bangladesh:\n",
    "    print(f'{city} is in bangladesh')\n",
    "else:\n",
    "    print(f'{city} is not available in given list')"
   ]
  },
  {
   "cell_type": "code",
   "execution_count": 90,
   "id": "003dc5e1",
   "metadata": {},
   "outputs": [
    {
     "name": "stdout",
     "output_type": "stream",
     "text": [
      "enter 1st city name:lahore\n",
      "enter 2nd city name:islamabad\n",
      "lahore and islamabad are in pakistan\n"
     ]
    }
   ],
   "source": [
    "india = [\"mumbai\", \"banglore\", \"chennai\", \"delhi\"]\n",
    "pakistan = [\"lahore\",\"karachi\",\"islamabad\"]\n",
    "bangladesh = [\"dhaka\", \"khulna\", \"rangpur\"]\n",
    "\n",
    "city1 = str(input(\"enter 1st city name:\"))\n",
    "city2 = str(input(\"enter 2nd city name:\"))\n",
    "\n",
    "city1 =city1.lower()\n",
    "city2 = city2.lower()\n",
    "if city1 in india and  city2 in india:\n",
    "    print(f'{city1} and {city2} are in India')\n",
    "elif city1 in pakistan and city2 in pakistan:\n",
    "    print(f'{city1} and {city2} are in pakistan')\n",
    "elif city1 in bangladesh and city2 in bangladesh:\n",
    "    print(f'{city1} and {city2} are in bangladesh')\n",
    "else:\n",
    "    print(f'{city1} and {city2} are not in same country')"
   ]
  },
  {
   "cell_type": "code",
   "execution_count": 93,
   "id": "6b2b18f1",
   "metadata": {},
   "outputs": [
    {
     "name": "stdout",
     "output_type": "stream",
     "text": [
      "enter your sugar level:96\n",
      "your sugar level 96 is normal\n"
     ]
    }
   ],
   "source": [
    "sugar_level = int(input(\"enter your sugar level:\"))\n",
    "if sugar_level <=80:\n",
    "    print(f' your sugar level {sugar_level} is low')\n",
    "elif 80<=sugar_level<=100:\n",
    "    print(f'your sugar level {sugar_level} is normal')\n",
    "elif sugar_level>=100:\n",
    "    print(f'your sugar level {sugar_level} is high')\n",
    "else:\n",
    "    print(f'proper sugar level value')"
   ]
  },
  {
   "cell_type": "code",
   "execution_count": 3,
   "id": "205bde1d",
   "metadata": {},
   "outputs": [
    {
     "name": "stdout",
     "output_type": "stream",
     "text": [
      "4\n"
     ]
    }
   ],
   "source": [
    "result = [\"heads\",\"tails\",\"tails\",\"heads\",\"tails\",\"heads\",\"heads\",\"tails\",\"tails\",\"tails\"]\n",
    "count = 0\n",
    "for i in result:\n",
    "    if i == 'heads':\n",
    "        count = count +1\n",
    "    else:\n",
    "        continue\n",
    "print(count)\n",
    "        \n",
    "    "
   ]
  },
  {
   "cell_type": "code",
   "execution_count": 6,
   "id": "d8ef4473",
   "metadata": {},
   "outputs": [
    {
     "name": "stdout",
     "output_type": "stream",
     "text": [
      "1\n",
      "9\n",
      "25\n",
      "49\n",
      "81\n"
     ]
    }
   ],
   "source": [
    "for i in range(1,11):\n",
    "    if i%2==0:\n",
    "        continue\n",
    "    else:\n",
    "        print(i**2)"
   ]
  },
  {
   "cell_type": "code",
   "execution_count": 19,
   "id": "f6469a04",
   "metadata": {},
   "outputs": [
    {
     "name": "stdout",
     "output_type": "stream",
     "text": [
      "enter expense amount:4500\n",
      "expense amount not found\n"
     ]
    }
   ],
   "source": [
    "expense_list = [2340, 2500, 2100, 3100, 2980]\n",
    "amount = int(input(\"enter expense amount:\"))\n",
    "\n",
    "months = [\"January\", \"February\", \"March\", \"April\", \"May\"]\n",
    "expense_found = False\n",
    "for i in range(len(expense_list)):\n",
    "    if expense_list[i] == amount:\n",
    "        month = months[i]\n",
    "        expense_found = True\n",
    "        break\n",
    "if expense_found:\n",
    "    print(f\"the expense of {amount} dollars occurred in {month}\")\n",
    "else:\n",
    "    print(\"expense amount not found\")\n",
    "        \n",
    "    "
   ]
  },
  {
   "cell_type": "code",
   "execution_count": 35,
   "id": "288f79a6",
   "metadata": {},
   "outputs": [
    {
     "name": "stdout",
     "output_type": "stream",
     "text": [
      "you ran 1 miles\n",
      "are you tired:no\n",
      "you ran 2 miles\n",
      "are you tired:no\n",
      "you ran 3 miles\n",
      "are you tired:no\n",
      "you ran 4 miles\n",
      "are you tired:yes\n",
      "you didnt finish the race\n"
     ]
    }
   ],
   "source": [
    "run =0\n",
    "for  i in range(1,6):\n",
    "    run = run+1\n",
    "    print(f'you ran {run} miles')\n",
    "    reply = input('are you tired:')\n",
    "    if reply == 'yes':\n",
    "        print('you didnt finish the race')\n",
    "        break\n",
    "    else:\n",
    "        continue\n",
    "if run == 5:\n",
    "    print(\"congratulations, you finished the race\")\n",
    "    \n",
    "    \n",
    "    "
   ]
  },
  {
   "cell_type": "code",
   "execution_count": 34,
   "id": "3940c5b7",
   "metadata": {},
   "outputs": [
    {
     "name": "stdout",
     "output_type": "stream",
     "text": [
      "*\n",
      "**\n",
      "***\n",
      "****\n",
      "*****\n"
     ]
    }
   ],
   "source": [
    "for i in range(1,6):\n",
    "    print('*' *i)"
   ]
  },
  {
   "cell_type": "code",
   "execution_count": 48,
   "id": "4606921c",
   "metadata": {},
   "outputs": [
    {
     "name": "stdout",
     "output_type": "stream",
     "text": [
      "enter base number:10\n",
      "enter height number:20\n",
      "the area of triangle is 100.0\n"
     ]
    }
   ],
   "source": [
    "base = int(input(\"enter base number:\"))\n",
    "height = int(input(\"enter height number:\"))\n",
    "def area(base, height):\n",
    "    \n",
    "    area = 1/2* base* height\n",
    "    \n",
    "    return area\n",
    "triangle_area = area(base, height)\n",
    "print(f'the area of triangle is {triangle_area}')"
   ]
  },
  {
   "cell_type": "code",
   "execution_count": 56,
   "id": "20a9811c",
   "metadata": {},
   "outputs": [
    {
     "name": "stdout",
     "output_type": "stream",
     "text": [
      "enter base number:29\n",
      "enter height number:30\n",
      "enter shape type:rectangle\n",
      "the area of triangle is 870\n"
     ]
    }
   ],
   "source": [
    "base = int(input(\"enter base number:\"))\n",
    "height = int(input(\"enter height number:\"))\n",
    "shape_type = input(\"enter shape type:\")\n",
    "def area(base, height,shape_type):\n",
    "    if shape_type =='triangle':\n",
    "        area = 1/2* base* height\n",
    "    elif shape_type == 'rectangle':\n",
    "        area = base* height\n",
    "    else:\n",
    "        shape_type = 'triangle'\n",
    "    return area\n",
    "shape_area = area(base, height,shape_type)\n",
    "print(f'the area of triangle is {shape_area}')"
   ]
  },
  {
   "cell_type": "code",
   "execution_count": 63,
   "id": "c9f52bce",
   "metadata": {},
   "outputs": [
    {
     "name": "stdout",
     "output_type": "stream",
     "text": [
      "enter the number:4\n",
      "\n",
      "*\n",
      "**\n",
      "***\n",
      "****\n"
     ]
    },
    {
     "data": {
      "text/plain": [
       "<function __main__.print_pattern(number)>"
      ]
     },
     "execution_count": 63,
     "metadata": {},
     "output_type": "execute_result"
    }
   ],
   "source": [
    "def print_pattern(number):\n",
    "    number = int(input(\"enter the number:\"))\n",
    "    for i in range(number+1):\n",
    "        print('*'*i)\n",
    "        \n",
    "    return print_pattern\n",
    "print_pattern(number)"
   ]
  },
  {
   "cell_type": "code",
   "execution_count": 64,
   "id": "fcbe0594",
   "metadata": {},
   "outputs": [
    {
     "name": "stdout",
     "output_type": "stream",
     "text": [
      "{'china': 143, 'india': 136, 'USA': 32, 'Pakistan': 21}\n"
     ]
    }
   ],
   "source": [
    "dict1 = {'china': 143, 'india':136, 'USA':32, 'Pakistan': 21}\n",
    "print(dict1)"
   ]
  },
  {
   "cell_type": "code",
   "execution_count": null,
   "id": "be1fba9c",
   "metadata": {},
   "outputs": [],
   "source": [
    "def print_country():\n",
    "    for country, population in dict1.items():\n",
    "        print(f'{country}==>{population}')\n",
    "\n",
    "def add_country():\n",
    "    country_name = input(\"enter the country name:\").strip().lower()\n",
    "    if country_name in dict1:\n",
    "        print(f'the country {country_name} already exists in dataset')\n",
    "    else:\n",
    "        population = int(input(f'Enter population of {country}:'))\n",
    "        dict1[country_name] = population\n",
    "        print(f'{country_name} with a population of {popukation} added to dataset')\n",
    "            \n",
    "def remove_country():\n",
    "    country_name = input(\"enter the country Name\").strip().lower()\n",
    "    if country_name in dict1:\n",
    "        del dict1[country_name]\n",
    "        print(f'{country_name} is removed from the dataset')\n",
    "        print_country()\n",
    "    else:\n",
    "        print(f'{country_name} is not available in dataset to remove')\n",
    "\n",
    "def query_population():\n",
    "    country_name = input('Enter the name of country to query:').strip().lower()\n",
    "    if country_name in dict1:\n",
    "        population = dict1[country_name]\n",
    "        print(f'the population of {country_name} is {population}')\n",
    "    else:\n",
    "        print(f'the country {country_name} doesnt exist in dataset')\n",
    "        \n",
    "while True:\n",
    "    user_input = input(\"enter query:\")\n",
    "              \n",
    "    if user_input == 'print':\n",
    "        print_country()\n",
    "              \n",
    "    elif user_input == 'add':\n",
    "        add_country()\n",
    "              \n",
    "    elif user_input == 'remove':\n",
    "        remove_country()\n",
    "    \n",
    "    elif user_input == 'query':\n",
    "        query_population()\n",
    "    elif user_input == 'quit'\n",
    "        break\n",
    "    \n",
    "    else:\n",
    "        print(f'the entered {user_input} not available in system')"
   ]
  },
  {
   "cell_type": "code",
   "execution_count": 77,
   "id": "a5d8ec5f",
   "metadata": {},
   "outputs": [
    {
     "name": "stdout",
     "output_type": "stream",
     "text": [
      "enter the radius of circle:5\n",
      "result:\n",
      "Area:78.0\n",
      "circumference:31.0\n",
      "diameter:10\n"
     ]
    }
   ],
   "source": [
    "def circle_calc():\n",
    "    radius = int(input(\"enter the radius of circle:\"))\n",
    "    area = 3.14*radius**2\n",
    "    #print(f\"the area of circle is {area}\")\n",
    "    circumference = 2*3.14*radius\n",
    "    ##print(f'the circumference of circle is {circumference}')\n",
    "    diameter = 2*radius\n",
    "    #print(f'the diameter of circle is {diameter}')\n",
    "    result_dict ={\n",
    "        'Area':round(area,0),\n",
    "        'circumference':round(circumference,0),\n",
    "        'diameter':round(diameter,2)\n",
    "    }\n",
    "    return result_dict\n",
    "result = circle_calc()\n",
    "print(\"result:\")\n",
    "for key, value in result.items():\n",
    "    print(f'{key}:{value}')"
   ]
  },
  {
   "cell_type": "code",
   "execution_count": 78,
   "id": "ae210a68",
   "metadata": {},
   "outputs": [],
   "source": [
    "class employee:\n",
    "    def __init__(self, emp_id, emp_name):\n",
    "        self.id = emp_id\n",
    "        self.name = emp_name\n",
    "        \n",
    "\n",
    "        \n",
    "employee1 = employee(1,'John')\n",
    "employee2 = employee(2,'Alice')\n",
    "\n",
    "print(\"employee1_id:\", employee1.id)\n",
    "pr9"
   ]
  },
  {
   "cell_type": "code",
   "execution_count": 2,
   "id": "34d3840c",
   "metadata": {},
   "outputs": [],
   "source": [
    "class animal:\n",
    "    def __init__(self,habitat):\n",
    "        self.habitat = habitat\n",
    "        \n",
    "    def describe_habitat(self):\n",
    "        print(f\"the animal lives in {self.habitat}.\")\n",
    "        \n",
    "class dog(animal):\n",
    "    def __init__(self, habitat, breed):\n",
    "        super().__init__(habitat)\n",
    "        self.breed = breed\n",
    "        \n",
    "    def describe_dog(self):\n",
    "        print(f\"the dog is of breed {self.breed} and lives in habitat {self.habitat}\")\n",
    "        \n",
    "        \n",
    "dog1 = dog(\"domestic\",\"golden retriever\")\n",
    "dog2 = dog(\"urban\",\"poodle\")\n",
    "\n",
    "\n"
   ]
  },
  {
   "cell_type": "code",
   "execution_count": 3,
   "id": "8ed95449",
   "metadata": {},
   "outputs": [
    {
     "name": "stdout",
     "output_type": "stream",
     "text": [
      "the animal lives in domestic.\n",
      "the animal lives in urban.\n"
     ]
    }
   ],
   "source": [
    "dog1.describe_habitat()\n",
    "dog2.describe_habitat()\n"
   ]
  },
  {
   "cell_type": "code",
   "execution_count": 9,
   "id": "0fd3c50b",
   "metadata": {},
   "outputs": [
    {
     "name": "stdout",
     "output_type": "stream",
     "text": [
      "{1, 4, 9}\n"
     ]
    }
   ],
   "source": [
    "i1 = [1,-1,2,-2,3,-3]\n",
    "i2 = set()\n",
    "for i in range(len(i1)):\n",
    "    s= i1[i]**2\n",
    "    i2.add(s)\n",
    "print(i2)\n",
    "    \n",
    "    "
   ]
  },
  {
   "cell_type": "code",
   "execution_count": null,
   "id": "98c18b14",
   "metadata": {},
   "outputs": [],
   "source": []
  }
 ],
 "metadata": {
  "kernelspec": {
   "display_name": "Python 3 (ipykernel)",
   "language": "python",
   "name": "python3"
  },
  "language_info": {
   "codemirror_mode": {
    "name": "ipython",
    "version": 3
   },
   "file_extension": ".py",
   "mimetype": "text/x-python",
   "name": "python",
   "nbconvert_exporter": "python",
   "pygments_lexer": "ipython3",
   "version": "3.9.13"
  }
 },
 "nbformat": 4,
 "nbformat_minor": 5
}
